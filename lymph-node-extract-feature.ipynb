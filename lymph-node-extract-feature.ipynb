{
 "cells": [
  {
   "cell_type": "code",
   "execution_count": 35,
   "metadata": {
    "collapsed": false
   },
   "outputs": [],
   "source": [
    "\"\"\"\n",
    "Change the folders' name to make it easier to process. \n",
    "Basically this section is to switch the order of pos and neg.\n",
    "I want the pos cases go first, because there are fewer of\n",
    "them, and I'm going to sample the neg cases based on how \n",
    "many pos cases I have.\n",
    "\"\"\"\n",
    "\n",
    "import os\n",
    "path = '/Users/crl_imac/Documents/lymph_node_CT_data/ROI'\n",
    "\n",
    "for root, dirs, filenames in os.walk(path):\n",
    "    \n",
    "    if not '.DS_Store' in filenames:\n",
    "        continue\n",
    "    \n",
    "    if \"roi\" not in dirs[0]:\n",
    "        continue\n",
    "    \n",
    "    for one_dir in dirs:\n",
    "        \n",
    "        if \"neg\" in one_dir:\n",
    "            os.rename(os.path.join(root, one_dir),\n",
    "                     os.path.join(root, '2'+one_dir))\n",
    "        if \"pos\" in one_dir:\n",
    "            os.rename(os.path.join(root, one_dir),\n",
    "                     os.path.join(root, '1'+one_dir))\n",
    "            "
   ]
  },
  {
   "cell_type": "code",
   "execution_count": 59,
   "metadata": {
    "collapsed": false
   },
   "outputs": [
    {
     "name": "stdout",
     "output_type": "stream",
     "text": [
      "/Users/crl_imac/Documents/lymph_node_CT_data/ROI/MED_LYMPH_010\n",
      "/Users/crl_imac/Documents/lymph_node_CT_data/ROI/MED_LYMPH_030\n",
      "/Users/crl_imac/Documents/lymph_node_CT_data/ROI/MED_LYMPH_045\n",
      "/Users/crl_imac/Documents/lymph_node_CT_data/ROI/MED_LYMPH_062\n"
     ]
    }
   ],
   "source": [
    "\"\"\"\n",
    "This function is to point out the patients who only have \n",
    "negative roi.\n",
    "\"\"\"\n",
    "\n",
    "def find_only_neg(path):\n",
    "    \n",
    "    for root, dirs, filenames in os.walk(path, topdown=True):\n",
    "        \n",
    "        # \"len(dirs) -> return True if not empty \"\n",
    "        if ('.DS_Store' in filenames) and (len(dirs)):\n",
    "            continue\n",
    "        \n",
    "        if len(filenames):\n",
    "            continue\n",
    "            \n",
    "        if len(dirs) == 1:\n",
    "            print root\n",
    "\n",
    "find_only_neg('/Users/crl_imac/Documents/lymph_node_CT_data/ROI')"
   ]
  },
  {
   "cell_type": "markdown",
   "metadata": {},
   "source": [
    "#### From the output of checking function, we know that *MED10, MED30, MED45, MED62* just have negative cases. "
   ]
  },
  {
   "cell_type": "code",
   "execution_count": 192,
   "metadata": {
    "collapsed": false
   },
   "outputs": [],
   "source": [
    "\"\"\"\n",
    "This function is used to delete input roi that has zero in their \n",
    "dimension. Since we're going to do 2.5D here, when we delete one\n",
    "patch, its corresponding sagittal/coronal/.. are going to be \n",
    "deleted as well. \n",
    "\"\"\"\n",
    "\n",
    "def remove_zero_dimension(path):\n",
    "    \n",
    "    directory = \"/Users/crl_imac/Documents/lymph_node_CT_data/Invalid_samples/Inconsistent_Dimension/invalid_info.txt\"\n",
    "    try:\n",
    "        os.remove(directory)\n",
    "    except OSError:\n",
    "        pass\n",
    "    \n",
    "    dustbin = \"/Users/crl_imac/Documents/lymph_node_CT_data/Invalid_samples/Inconsistent_Dimension/\"\n",
    "    for root, dirs, filenames in os.walk(path, topdown=True):\n",
    "        \n",
    "        if '.DS_Store' in filenames:\n",
    "            continue\n",
    "        \n",
    "        for filename in filenames:\n",
    "\n",
    "            image = np.load(os.path.join(root, filename))\n",
    "            \n",
    "            # if image.shape[0] == 0 or image.shape[1] == 0 or :\n",
    "            if image.shape[0] != image.shape[1]:\n",
    "                \n",
    "                if \"coronal\" in filename:\n",
    "                    other_name_one = filename.replace(\"coronal\", \"sagittal\")\n",
    "                    other_name_two = filename.replace(\"coronal\", \"axial\")\n",
    "                elif \"sagittal\" in filename:\n",
    "                    other_name_one = filename.replace(\"sagittal\", \"coronal\")\n",
    "                    other_name_two = filename.replace(\"sagittal\", \"axial\")\n",
    "                elif \"axial\" in filename:\n",
    "                    other_name_one = filename.replace(\"axial\", \"coronal\")\n",
    "                    other_name_two = filename.replace(\"axial\", \"sagittal\")\n",
    "                \n",
    "                filenames.remove(filename)\n",
    "                filenames.remove(other_name_one)\n",
    "                filenames.remove(other_name_two)\n",
    "                \n",
    "                if not os.path.exists(dustbin + root[-22:-9]):\n",
    "                    os.makedirs(dustbin + root[-22:-9])\n",
    "                \n",
    "                os.rename(os.path.join(root, filename), \n",
    "                          dustbin + root[-22:-9] +'/'+ root[-7:-4] + filename)\n",
    "                os.rename(os.path.join(root, other_name_one), \n",
    "                          dustbin + root[-22:-9] +'/'+ root[-7:-4] + other_name_one)\n",
    "                os.rename(os.path.join(root, other_name_two), \n",
    "                          dustbin + root[-22:-9] +'/'+ root[-7:-4] + other_name_two)\n",
    "                \n",
    "                base_info = os.path.join(root, filename)[-70:] + ' has a invalid shape of %s\\n' % (str(np.shape(image)))\n",
    "                other_info = \"%s and %s will be deleted together\\n\\n\" % (other_name_one, other_name_two)\n",
    "                \n",
    "                with open(directory, 'aw') as f:\n",
    "                    f.write(base_info)\n",
    "                    f.write(other_info)\n",
    "                \n",
    "                \n",
    "remove_zero_dimension('/Users/crl_imac/Documents/lymph_node_CT_data/ROI')\n",
    "    "
   ]
  },
  {
   "cell_type": "markdown",
   "metadata": {},
   "source": [
    "#### After we run the \"remove_zero_dimension\" function, the roi left in the \"ROI\" folder should be valid. Next, we're going to construct image from this folder, and feed it into CNN"
   ]
  },
  {
   "cell_type": "code",
   "execution_count": 4,
   "metadata": {
    "collapsed": false
   },
   "outputs": [],
   "source": [
    "import sys\n",
    "\n",
    "caffe_root = '/Users/crl_imac/Documents/caffe/'\n",
    "sys.path.insert(0, caffe_root+'python')\n",
    "\n",
    "import caffe"
   ]
  },
  {
   "cell_type": "code",
   "execution_count": 6,
   "metadata": {
    "collapsed": false
   },
   "outputs": [],
   "source": [
    "'''\n",
    "Set up CNN and do image preprocessing.\n",
    "'''\n",
    "import numpy as np\n",
    "caffe.set_mode_cpu()\n",
    "\n",
    "model_def = caffe_root + 'models/bvlc_reference_caffenet/deploy.prototxt'\n",
    "model_weight = caffe_root + 'models/bvlc_reference_caffenet/bvlc_reference_caffenet.caffemodel'\n",
    "\n",
    "net = caffe.Net(model_def, model_weight, caffe.TEST)\n",
    "\n",
    "net.blobs['data'].reshape(50,        # batch size \n",
    "                        3,          # 3-channel(BGR) images\n",
    "                        227, 227)   # image size\n",
    "\n",
    "mu = np.load(caffe_root+'python/caffe/imagenet/ilsvrc_2012_mean.npy') # mu:(3, 256, 256)\n",
    "mu = mu.mean(1).mean(1) # Obtain the mean (BGR) pixel values\n",
    "transformer = caffe.io.Transformer({'data':net.blobs['data'].data.shape})\n",
    "\n",
    "transformer.set_transpose('data', (2,0,1))  # move image channels to outermost dimension\n",
    "transformer.set_mean('data', mu)            # subtract the dataset-mean value in each channel\n",
    "transformer.set_raw_scale('data', 255)      # rescale from [0, 1] to [0, 255]\n",
    "transformer.set_channel_swap('data', (2,1,0))  # swap channels from RGB to BGR\n"
   ]
  },
  {
   "cell_type": "code",
   "execution_count": 7,
   "metadata": {
    "collapsed": true
   },
   "outputs": [],
   "source": [
    "def preprocess(image):\n",
    "    \n",
    "    image = (image - np.mean(image))/np.mean(image)\n",
    "    transform_image = transformer.preprocess('data', image)\n",
    "    \n",
    "    return transform_image"
   ]
  },
  {
   "cell_type": "code",
   "execution_count": 213,
   "metadata": {
    "collapsed": false
   },
   "outputs": [],
   "source": [
    "\"\"\"\n",
    "This function is to select three slices(axial, coronal, sagittal)\n",
    "and input it into caffe network. \n",
    "\n",
    "To avoid any intermediate saving, which might be huge, after we \n",
    "get one input image, we directly feed it into the network to \n",
    "extract its features. \n",
    "\"\"\"\n",
    "\n",
    "import os\n",
    "import csv\n",
    "from skimage.transform import resize\n",
    "\n",
    "def generate_CNNinput(path, blobnames):\n",
    "    \n",
    "    directory = \"/Users/crl_imac/Documents/DeepLearning/RESULT/CaffeNet/Off-the-shell/ABD_LYMPH/Input_info.txt\"\n",
    "    result_directory = \"/Users/crl_imac/Documents/DeepLearning/RESULT/CaffeNet/Off-the-shell/ABD_LYMPH\"\n",
    "    \n",
    "    blob_dict = {}\n",
    "    for blob in blob_names:\n",
    "        blob_dict[blob] = []\n",
    "        try:\n",
    "            os.remove(result_directory+'/'+blob+'.csv')\n",
    "        except OSError:\n",
    "            pass\n",
    "    \n",
    "    try:\n",
    "        os.remove(directory)                                              \n",
    "    except OSError:\n",
    "        pass\n",
    "    \n",
    "    for root, dirs, filenames in os.walk(path, topdown=True):\n",
    "        \n",
    "        if '.DS_Store' in filenames:\n",
    "            continue\n",
    "        \n",
    "        # Just do with ABD or MED once a time. \n",
    "        if \"MED\" in root:\n",
    "            continue      \n",
    "        \n",
    "        if \"pos\" in root:\n",
    "            \n",
    "            new_filenames = [x for x in filenames if \"ROT\" not in x]\n",
    "            newest_filenames = [y for y in new_filenames if \"SCALE_0\" in y]\n",
    "            \n",
    "            num_sample = len(newest_filenames)/3\n",
    "            \n",
    "            for filename in newest_filenames:\n",
    "                \n",
    "                image = np.load(os.path.join(root, filename))\n",
    "                \n",
    "                if \"axial\" in filename:\n",
    "                    image_3D = image\n",
    "                elif \"coronal\" in filename:\n",
    "                    image_3D = np.dstack((image_3D, image))\n",
    "                elif \"sagittal\" in filename:\n",
    "                    image_3D = np.dstack((image_3D, image))\n",
    "                \n",
    "                    CNN_input = preprocess(image_3D)\n",
    "                    net.blobs['data'].data[...] = CNN_input\n",
    "                    output = net.forward()\n",
    "\n",
    "                    for blob in blob_names:\n",
    "\n",
    "                        feature = net.blobs[blob].data[0,:]\n",
    "\n",
    "                        if \"fc\" in blob:\n",
    "                            blob_dict[blob] = list(feature)\n",
    "\n",
    "                        elif \"conv\" in blob:\n",
    "                            blob_dict[blob] = np.mean(np.mean(feature, axis=1),axis=1)\n",
    "                        \n",
    "                        \n",
    "                        with open(result_directory+'/'+blob+'.csv', 'aw') as fi:\n",
    "                            writer = csv.writer(fi)\n",
    "                            \n",
    "                            writer.writerow(blob_dict[blob])\n",
    "                \n",
    "        elif 'neg' in root:\n",
    "            \n",
    "            new_filenames = [x for x in filenames if \"ROT\" not in x]\n",
    "            newest_filenames = [y for y in new_filenames if \"SCALE_0\" in y]\n",
    "            \n",
    "            chosen_filenames = np.random.choice(newest_filenames, size=num_sample)\n",
    "            \n",
    "            for filename in chosen_filenames:\n",
    "                \n",
    "                image = np.load(os.path.join(root, filename))\n",
    "                \n",
    "                if \"axial\" in filename:\n",
    "                    \n",
    "                    coronal_filename = filename.replace('axial','coronal')\n",
    "                    sagittal_filename = filename.replace('axial', 'sagittal')\n",
    "                    coronal_image = np.load(os.path.join(root, coronal_filename))\n",
    "                    sagittal_image = np.load(os.path.join(root, sagittal_filename))\n",
    "                    image_3D = np.dstack((np.dstack((image, coronal_image)), sagittal_image))\n",
    "                \n",
    "                elif \"coronal\" in filename:\n",
    "                    \n",
    "                    axial_filename = filename.replace('coronal','axial')\n",
    "                    sagittal_filename = filename.replace('coronal', 'sagittal')\n",
    "                    axial_image = np.load(os.path.join(root, axial_filename))\n",
    "                    sagittal_image = np.load(os.path.join(root, sagittal_filename))\n",
    "                    image_3D = np.dstack((np.dstack((axial_image, image)), sagittal_image))\n",
    "                    \n",
    "                elif \"sagittal\" in filename:\n",
    "                    \n",
    "                    axial_filename = filename.replace('sagittal','axial')\n",
    "                    coronal_filename = filename.replace('sagittal','coronal')\n",
    "                    axial_image = np.load(os.path.join(root, axial_filename))\n",
    "                    coronal_image = np.load(os.path.join(root, coronal_filename))\n",
    "                    image_3D = np.dstack((np.dstack((axial_image, coronal_image)), image))\n",
    "                \n",
    "                CNN_input = preprocess(image_3D)\n",
    "                net.blobs['data'].data[...] = CNN_input\n",
    "                output = net.forward()\n",
    "                \n",
    "                for blob in blob_names:\n",
    "\n",
    "                        feature = net.blobs[blob].data[0,:]\n",
    "\n",
    "                        if \"fc\" in blob:\n",
    "                            blob_dict[blob] = list(feature)\n",
    "\n",
    "                        elif \"conv\" in blob:\n",
    "                            blob_dict[blob] = np.mean(np.mean(feature, axis=1),axis=1)\n",
    "                        \n",
    "                        \n",
    "                        with open(result_directory+'/'+blob+'.csv', 'aw') as fi:\n",
    "                            writer = csv.writer(fi)\n",
    "                            \n",
    "                            writer.writerow(blob_dict[blob])\n",
    "                \n",
    "                # pdb.set_trace()\n",
    "            \n",
    "            \n",
    "            print \"Processed %s\" % root[-23:-9]\n",
    "            info1 = \"%d pos samples from %s\\n\" % (num_sample, root[-23:-9])\n",
    "            info2 = \"%d neg samples from %s\\n\\n\" % (num_sample, root[-23:-9])\n",
    "\n",
    "            with open(directory, 'aw') as f:\n",
    "                f.write(info1)\n",
    "                f.write(info2)\n",
    "        \n",
    "   "
   ]
  },
  {
   "cell_type": "code",
   "execution_count": 214,
   "metadata": {
    "collapsed": true
   },
   "outputs": [
    {
     "name": "stdout",
     "output_type": "stream",
     "text": [
      "Processed /ABD_LYMPH_001\n",
      "Processed /ABD_LYMPH_002\n",
      "Processed /ABD_LYMPH_003\n",
      "Processed /ABD_LYMPH_004\n",
      "Processed /ABD_LYMPH_005\n",
      "Processed /ABD_LYMPH_006\n",
      "Processed /ABD_LYMPH_007\n",
      "Processed /ABD_LYMPH_008\n",
      "Processed /ABD_LYMPH_009\n",
      "Processed /ABD_LYMPH_010\n",
      "Processed /ABD_LYMPH_011\n",
      "Processed /ABD_LYMPH_012\n",
      "Processed /ABD_LYMPH_014\n",
      "Processed /ABD_LYMPH_015\n",
      "Processed /ABD_LYMPH_016\n",
      "Processed /ABD_LYMPH_017\n",
      "Processed /ABD_LYMPH_018\n",
      "Processed /ABD_LYMPH_019\n",
      "Processed /ABD_LYMPH_020\n",
      "Processed /ABD_LYMPH_021\n",
      "Processed /ABD_LYMPH_022\n",
      "Processed /ABD_LYMPH_023\n",
      "Processed /ABD_LYMPH_024\n",
      "Processed /ABD_LYMPH_025\n",
      "Processed /ABD_LYMPH_026\n",
      "Processed /ABD_LYMPH_027\n",
      "Processed /ABD_LYMPH_028\n",
      "Processed /ABD_LYMPH_029\n",
      "Processed /ABD_LYMPH_030\n",
      "Processed /ABD_LYMPH_031\n",
      "Processed /ABD_LYMPH_032\n",
      "Processed /ABD_LYMPH_033\n",
      "Processed /ABD_LYMPH_034\n",
      "Processed /ABD_LYMPH_035\n",
      "Processed /ABD_LYMPH_036\n",
      "Processed /ABD_LYMPH_037\n",
      "Processed /ABD_LYMPH_038\n",
      "Processed /ABD_LYMPH_039\n",
      "Processed /ABD_LYMPH_040\n",
      "Processed /ABD_LYMPH_041\n",
      "Processed /ABD_LYMPH_042\n",
      "Processed /ABD_LYMPH_043\n",
      "Processed /ABD_LYMPH_044\n",
      "Processed /ABD_LYMPH_045\n",
      "Processed /ABD_LYMPH_046\n",
      "Processed /ABD_LYMPH_047\n",
      "Processed /ABD_LYMPH_048\n",
      "Processed /ABD_LYMPH_049\n",
      "Processed /ABD_LYMPH_050\n",
      "Processed /ABD_LYMPH_051\n",
      "Processed /ABD_LYMPH_052\n",
      "Processed /ABD_LYMPH_053\n",
      "Processed /ABD_LYMPH_054\n",
      "Processed /ABD_LYMPH_055\n",
      "Processed /ABD_LYMPH_056\n",
      "Processed /ABD_LYMPH_057\n",
      "Processed /ABD_LYMPH_058\n",
      "Processed /ABD_LYMPH_059\n",
      "Processed /ABD_LYMPH_060\n",
      "Processed /ABD_LYMPH_061\n",
      "Processed /ABD_LYMPH_062\n",
      "Processed /ABD_LYMPH_063\n",
      "Processed /ABD_LYMPH_064\n",
      "Processed /ABD_LYMPH_065\n",
      "Processed /ABD_LYMPH_066\n",
      "Processed /ABD_LYMPH_067\n",
      "Processed /ABD_LYMPH_068\n",
      "Processed /ABD_LYMPH_069\n",
      "Processed /ABD_LYMPH_070\n",
      "Processed /ABD_LYMPH_071\n",
      "Processed /ABD_LYMPH_072\n",
      "Processed /ABD_LYMPH_073\n",
      "Processed /ABD_LYMPH_074\n",
      "Processed /ABD_LYMPH_075\n",
      "Processed /ABD_LYMPH_076\n",
      "Processed /ABD_LYMPH_077\n",
      "Processed /ABD_LYMPH_078\n",
      "Processed /ABD_LYMPH_079\n",
      "Processed /ABD_LYMPH_080\n",
      "Processed /ABD_LYMPH_081\n",
      "Processed /ABD_LYMPH_082\n",
      "Processed /ABD_LYMPH_083\n",
      "Processed /ABD_LYMPH_084\n",
      "Processed /ABD_LYMPH_085\n",
      "Processed /ABD_LYMPH_086\n"
     ]
    }
   ],
   "source": [
    "blob_names = ['fc8', 'fc7', 'fc6', 'conv5', 'conv4', 'conv3', 'conv2', 'conv1']\n",
    "data_path = '/Users/crl_imac/Documents/lymph_node_CT_data/ROI/'\n",
    "generate_CNNinput(data_path, blob_names)"
   ]
  },
  {
   "cell_type": "code",
   "execution_count": 7,
   "metadata": {
    "collapsed": false
   },
   "outputs": [
    {
     "name": "stdout",
     "output_type": "stream",
     "text": [
      "[20, 20, 350, 350, 135, 135, 70, 70, 5, 5, 130, 130, 35, 35, 25, 25, 65, 65, 35, 35, 70, 70, 35, 35, 80, 80, 10, 10, 65, 65, 10, 10, 70, 70, 100, 100, 222, 222, 10, 10, 70, 70, 10, 10, 70, 70, 10, 10, 5, 5, 10, 10, 95, 95, 5, 5, 175, 175, 15, 15, 30, 30, 30, 30, 125, 125, 20, 20, 5, 5, 40, 40, 40, 40, 50, 50, 250, 250, 33, 33, 60, 60, 5, 5, 170, 170, 65, 65, 115, 115, 70, 70, 10, 10, 5, 5, 20, 20, 130, 130, 175, 175, 55, 55, 15, 15, 15, 15, 40, 40, 60, 60, 5, 5, 10, 10, 30, 30, 5, 5, 85, 85, 115, 115, 40, 40, 30, 30, 15, 15, 15, 15, 120, 120, 190, 190, 10, 10, 30, 30, 125, 125, 35, 35, 120, 120, 90, 90, 15, 15, 10, 10, 55, 55, 45, 45, 5, 5, 25, 25, 5, 5, 5, 5, 20, 20, 15, 15, 5, 5]\n"
     ]
    }
   ],
   "source": [
    "\"\"\"\n",
    "Through running the above functions, we've obtained the feature vectors from CNN. \n",
    "Next we're going to use its output file \"input_info.txt\" to generate the label\n",
    "message. \n",
    "\"\"\"\n",
    "\n",
    "label_path = \"/Users/crl_imac/Documents/DeepLearning/RESULT/CaffeNet/Off-the-shell/ABD_LYMPH/Input_info.txt\"\n",
    "import numpy as np\n",
    "import pdb\n",
    "\n",
    "def get_me_label(path):\n",
    "    \n",
    "    label = []\n",
    "    labels = []\n",
    "    with open(path, 'r') as file:\n",
    "        \n",
    "        for line in file:\n",
    "                \n",
    "            words = line.split()\n",
    "            if words:\n",
    "                labels.append(int(words[0]))\n",
    "            \n",
    "            if \"pos\" in words:\n",
    "                \n",
    "                label = np.append(label, np.zeros(int(words[0])))\n",
    "                \n",
    "            elif \"neg\" in words:\n",
    "                \n",
    "                label = np.append(label, np.ones(int(words[0])))\n",
    "        \n",
    "    \n",
    "    print labels\n",
    "    #np.savetxt('/Users/crl_imac/Documents/DeepLearning/RESULT/CaffeNet/Off-the-shell/ABD_LYMPH/label.txt',\n",
    "    #          label)\n",
    "        \n",
    "    return labels\n",
    "\n",
    "a = get_me_label(label_path)"
   ]
  },
  {
   "cell_type": "code",
   "execution_count": 11,
   "metadata": {
    "collapsed": false
   },
   "outputs": [],
   "source": [
    "first_fold = sum(a[0:26]); second_fold=sum(a[26:52]); third_fold=sum(a[52:78]);\n",
    "fourth_fold=sum(a[78:104]);fifth_fold=sum(a[104:130]);test_fold=sum(a[130:])"
   ]
  },
  {
   "cell_type": "markdown",
   "metadata": {},
   "source": [
    "### The codes below are for debugging."
   ]
  },
  {
   "cell_type": "code",
   "execution_count": 147,
   "metadata": {
    "collapsed": false
   },
   "outputs": [],
   "source": [
    "def check_stop_point(file1, file2, file3):\n",
    "    \n",
    "    image1 = np.load(file1); image2 = np.load(file2); image3 = np.load(file3);\n",
    "    image_3D = np.dstack((np.dstack((image1, image2)), image3))\n",
    "    CNN_input = preprocess(image_3D)\n",
    "    net.blobs['data'].data[...] = CNN_input\n",
    "    output = net.forward()\n",
    "    \n",
    "    feature = net.blobs[\"fc8\"].data[0,:]\n",
    "    np.savetxt(\"/Users/crl_imac/Documents/DeepLearning/RESULT/CaffeNet/Off-the-shell/ABD_LYMPH/test.csv\",\n",
    "              feature, delimiter=\",\")\n",
    "    \n",
    "    return None\n",
    "\n",
    "rdir = \"/Users/crl_imac/Documents/lymph_node_CT_data/ROI/ABD_LYMPH_003/1pos_roi/\"\n",
    "check_stop_point(rdir+\"ROI_20_SCALE_1_trans_3_ROT_4_axial.npy\",\n",
    "                rdir+\"ROI_20_SCALE_1_trans_3_ROT_4_coronal.npy\",\n",
    "                rdir+\"ROI_20_SCALE_1_trans_3_ROT_4_sagittal.npy\")\n",
    "    "
   ]
  },
  {
   "cell_type": "code",
   "execution_count": 215,
   "metadata": {
    "collapsed": false
   },
   "outputs": [],
   "source": [
    "a = np.loadtxt(\"/Users/crl_imac/Documents/DeepLearning/RESULT/CaffeNet/Off-the-shell/ABD_LYMPH/conv3.csv\", delimiter=\",\")"
   ]
  },
  {
   "cell_type": "code",
   "execution_count": 179,
   "metadata": {
    "collapsed": true
   },
   "outputs": [],
   "source": [
    "a = np.load(\"/Users/crl_imac/Documents/lymph_node_CT_data/ROI/ABD_LYMPH_003/1pos_roi/ROI_2_SCALE_0_trans_1_ROT_4_axial.npy\")\n",
    "b = np.load(\"/Users/crl_imac/Documents/lymph_node_CT_data/ROI/ABD_LYMPH_003/1pos_roi/ROI_2_SCALE_0_trans_1_ROT_4_coronal.npy\")\n",
    "c = np.load(\"/Users/crl_imac/Documents/lymph_node_CT_data/ROI/ABD_LYMPH_003/1pos_roi/ROI_2_SCALE_0_trans_1_ROT_4_sagittal.npy\")"
   ]
  },
  {
   "cell_type": "code",
   "execution_count": 187,
   "metadata": {
    "collapsed": true
   },
   "outputs": [
    {
     "data": {
      "text/plain": [
       "<matplotlib.image.AxesImage at 0x136445d10>"
      ]
     },
     "execution_count": 187,
     "metadata": {},
     "output_type": "execute_result"
    },
    {
     "data": {
      "image/png": "[encoded data removed]",
      "text/plain": [
       "<matplotlib.figure.Figure at 0x134f66510>"
      ]
     },
     "metadata": {},
     "output_type": "display_data"
    }
   ],
   "source": [
    "import matplotlib.pyplot as plt\n",
    "%matplotlib inline\n",
    "plt.imshow(c, cmap='gray')"
   ]
  },
  {
   "cell_type": "code",
   "execution_count": 178,
   "metadata": {
    "collapsed": false,
    "scrolled": false
   },
   "outputs": [
    {
     "name": "stdout",
     "output_type": "stream",
     "text": [
      "ROI_2_SCALE_0_trans_1_ROT_4_axial.npy\n",
      "ROI_2_SCALE_0_trans_1_ROT_4_coronal.npy\n",
      "ROI_2_SCALE_0_trans_1_ROT_4_sagittal.npy\n"
     ]
    }
   ],
   "source": [
    "path1 = \"/Users/crl_imac/Documents/lymph_node_CT_data/ROI/ABD_LYMPH_003/1pos_roi/\"\n",
    "i = 0\n",
    "for root, dirs, filenames in os.walk(path1):\n",
    "    \n",
    "    for filename in filenames:\n",
    "        \n",
    "        i += 1\n",
    "        \n",
    "        if i == 7228 or i == 7229 or i==7230:\n",
    "            print filename"
   ]
  },
  {
   "cell_type": "code",
   "execution_count": 74,
   "metadata": {
    "collapsed": true
   },
   "outputs": [
    {
     "name": "stdout",
     "output_type": "stream",
     "text": [
      "now we're going to 7 sample from the negative set\n",
      "> /Users/crl_imac/anaconda/lib/python2.7/site-packages/IPython/core/interactiveshell.py(1803)showtraceback()\n",
      "-> try:\n"
     ]
    },
    {
     "ename": "KeyboardInterrupt",
     "evalue": "",
     "output_type": "error",
     "traceback": [
      "\u001b[0;31m----------------------------------------------------------------\u001b[0m",
      "\u001b[0;31mKeyboardInterrupt\u001b[0m              Traceback (most recent call last)",
      "\u001b[0;32m/Users/crl_imac/anaconda/lib/python2.7/site-packages/IPython/core/interactiveshell.pyc\u001b[0m in \u001b[0;36mrun_code\u001b[0;34m(self, code_obj, result)\u001b[0m\n\u001b[1;32m   2900\u001b[0m             \u001b[0;32mif\u001b[0m \u001b[0mresult\u001b[0m \u001b[0;32mis\u001b[0m \u001b[0;32mnot\u001b[0m \u001b[0mNone\u001b[0m\u001b[0;34m:\u001b[0m\u001b[0;34m\u001b[0m\u001b[0m\n\u001b[1;32m   2901\u001b[0m                 \u001b[0mresult\u001b[0m\u001b[0;34m.\u001b[0m\u001b[0merror_in_exec\u001b[0m \u001b[0;34m=\u001b[0m \u001b[0msys\u001b[0m\u001b[0;34m.\u001b[0m\u001b[0mexc_info\u001b[0m\u001b[0;34m(\u001b[0m\u001b[0;34m)\u001b[0m\u001b[0;34m[\u001b[0m\u001b[0;36m1\u001b[0m\u001b[0;34m]\u001b[0m\u001b[0;34m\u001b[0m\u001b[0m\n\u001b[0;32m-> 2902\u001b[0;31m             \u001b[0mself\u001b[0m\u001b[0;34m.\u001b[0m\u001b[0mshowtraceback\u001b[0m\u001b[0;34m(\u001b[0m\u001b[0;34m)\u001b[0m\u001b[0;34m\u001b[0m\u001b[0m\n\u001b[0m\u001b[1;32m   2903\u001b[0m         \u001b[0;32melse\u001b[0m\u001b[0;34m:\u001b[0m\u001b[0;34m\u001b[0m\u001b[0m\n\u001b[1;32m   2904\u001b[0m             \u001b[0moutflag\u001b[0m \u001b[0;34m=\u001b[0m \u001b[0;36m0\u001b[0m\u001b[0;34m\u001b[0m\u001b[0m\n",
      "\u001b[0;32m/Users/crl_imac/anaconda/lib/python2.7/site-packages/IPython/core/interactiveshell.pyc\u001b[0m in \u001b[0;36mshowtraceback\u001b[0;34m(self, exc_tuple, filename, tb_offset, exception_only)\u001b[0m\n\u001b[1;32m   1801\u001b[0m         simply call this method.\"\"\"\n\u001b[1;32m   1802\u001b[0m \u001b[0;34m\u001b[0m\u001b[0m\n\u001b[0;32m-> 1803\u001b[0;31m         \u001b[0;32mtry\u001b[0m\u001b[0;34m:\u001b[0m\u001b[0;34m\u001b[0m\u001b[0m\n\u001b[0m\u001b[1;32m   1804\u001b[0m             \u001b[0;32mtry\u001b[0m\u001b[0;34m:\u001b[0m\u001b[0;34m\u001b[0m\u001b[0m\n\u001b[1;32m   1805\u001b[0m                 \u001b[0metype\u001b[0m\u001b[0;34m,\u001b[0m \u001b[0mvalue\u001b[0m\u001b[0;34m,\u001b[0m \u001b[0mtb\u001b[0m \u001b[0;34m=\u001b[0m \u001b[0mself\u001b[0m\u001b[0;34m.\u001b[0m\u001b[0m_get_exc_info\u001b[0m\u001b[0;34m(\u001b[0m\u001b[0mexc_tuple\u001b[0m\u001b[0;34m)\u001b[0m\u001b[0;34m\u001b[0m\u001b[0m\n",
      "\u001b[0;32m/Users/crl_imac/anaconda/lib/python2.7/site-packages/IPython/core/interactiveshell.pyc\u001b[0m in \u001b[0;36mshowtraceback\u001b[0;34m(self, exc_tuple, filename, tb_offset, exception_only)\u001b[0m\n\u001b[1;32m   1801\u001b[0m         simply call this method.\"\"\"\n\u001b[1;32m   1802\u001b[0m \u001b[0;34m\u001b[0m\u001b[0m\n\u001b[0;32m-> 1803\u001b[0;31m         \u001b[0;32mtry\u001b[0m\u001b[0;34m:\u001b[0m\u001b[0;34m\u001b[0m\u001b[0m\n\u001b[0m\u001b[1;32m   1804\u001b[0m             \u001b[0;32mtry\u001b[0m\u001b[0;34m:\u001b[0m\u001b[0;34m\u001b[0m\u001b[0m\n\u001b[1;32m   1805\u001b[0m                 \u001b[0metype\u001b[0m\u001b[0;34m,\u001b[0m \u001b[0mvalue\u001b[0m\u001b[0;34m,\u001b[0m \u001b[0mtb\u001b[0m \u001b[0;34m=\u001b[0m \u001b[0mself\u001b[0m\u001b[0;34m.\u001b[0m\u001b[0m_get_exc_info\u001b[0m\u001b[0;34m(\u001b[0m\u001b[0mexc_tuple\u001b[0m\u001b[0;34m)\u001b[0m\u001b[0;34m\u001b[0m\u001b[0m\n",
      "\u001b[0;32m/Users/crl_imac/anaconda/lib/python2.7/bdb.pyc\u001b[0m in \u001b[0;36mtrace_dispatch\u001b[0;34m(self, frame, event, arg)\u001b[0m\n\u001b[1;32m     47\u001b[0m             \u001b[0;32mreturn\u001b[0m \u001b[0;31m# None\u001b[0m\u001b[0;34m\u001b[0m\u001b[0m\n\u001b[1;32m     48\u001b[0m         \u001b[0;32mif\u001b[0m \u001b[0mevent\u001b[0m \u001b[0;34m==\u001b[0m \u001b[0;34m'line'\u001b[0m\u001b[0;34m:\u001b[0m\u001b[0;34m\u001b[0m\u001b[0m\n\u001b[0;32m---> 49\u001b[0;31m             \u001b[0;32mreturn\u001b[0m \u001b[0mself\u001b[0m\u001b[0;34m.\u001b[0m\u001b[0mdispatch_line\u001b[0m\u001b[0;34m(\u001b[0m\u001b[0mframe\u001b[0m\u001b[0;34m)\u001b[0m\u001b[0;34m\u001b[0m\u001b[0m\n\u001b[0m\u001b[1;32m     50\u001b[0m         \u001b[0;32mif\u001b[0m \u001b[0mevent\u001b[0m \u001b[0;34m==\u001b[0m \u001b[0;34m'call'\u001b[0m\u001b[0;34m:\u001b[0m\u001b[0;34m\u001b[0m\u001b[0m\n\u001b[1;32m     51\u001b[0m             \u001b[0;32mreturn\u001b[0m \u001b[0mself\u001b[0m\u001b[0;34m.\u001b[0m\u001b[0mdispatch_call\u001b[0m\u001b[0;34m(\u001b[0m\u001b[0mframe\u001b[0m\u001b[0;34m,\u001b[0m \u001b[0marg\u001b[0m\u001b[0;34m)\u001b[0m\u001b[0;34m\u001b[0m\u001b[0m\n",
      "\u001b[0;32m/Users/crl_imac/anaconda/lib/python2.7/bdb.pyc\u001b[0m in \u001b[0;36mdispatch_line\u001b[0;34m(self, frame)\u001b[0m\n\u001b[1;32m     65\u001b[0m     \u001b[0;32mdef\u001b[0m \u001b[0mdispatch_line\u001b[0m\u001b[0;34m(\u001b[0m\u001b[0mself\u001b[0m\u001b[0;34m,\u001b[0m \u001b[0mframe\u001b[0m\u001b[0;34m)\u001b[0m\u001b[0;34m:\u001b[0m\u001b[0;34m\u001b[0m\u001b[0m\n\u001b[1;32m     66\u001b[0m         \u001b[0;32mif\u001b[0m \u001b[0mself\u001b[0m\u001b[0;34m.\u001b[0m\u001b[0mstop_here\u001b[0m\u001b[0;34m(\u001b[0m\u001b[0mframe\u001b[0m\u001b[0;34m)\u001b[0m \u001b[0;32mor\u001b[0m \u001b[0mself\u001b[0m\u001b[0;34m.\u001b[0m\u001b[0mbreak_here\u001b[0m\u001b[0;34m(\u001b[0m\u001b[0mframe\u001b[0m\u001b[0;34m)\u001b[0m\u001b[0;34m:\u001b[0m\u001b[0;34m\u001b[0m\u001b[0m\n\u001b[0;32m---> 67\u001b[0;31m             \u001b[0mself\u001b[0m\u001b[0;34m.\u001b[0m\u001b[0muser_line\u001b[0m\u001b[0;34m(\u001b[0m\u001b[0mframe\u001b[0m\u001b[0;34m)\u001b[0m\u001b[0;34m\u001b[0m\u001b[0m\n\u001b[0m\u001b[1;32m     68\u001b[0m             \u001b[0;32mif\u001b[0m \u001b[0mself\u001b[0m\u001b[0;34m.\u001b[0m\u001b[0mquitting\u001b[0m\u001b[0;34m:\u001b[0m \u001b[0;32mraise\u001b[0m \u001b[0mBdbQuit\u001b[0m\u001b[0;34m\u001b[0m\u001b[0m\n\u001b[1;32m     69\u001b[0m         \u001b[0;32mreturn\u001b[0m \u001b[0mself\u001b[0m\u001b[0;34m.\u001b[0m\u001b[0mtrace_dispatch\u001b[0m\u001b[0;34m\u001b[0m\u001b[0m\n",
      "\u001b[0;32m/Users/crl_imac/anaconda/lib/python2.7/pdb.pyc\u001b[0m in \u001b[0;36muser_line\u001b[0;34m(self, frame)\u001b[0m\n\u001b[1;32m    156\u001b[0m             \u001b[0mself\u001b[0m\u001b[0;34m.\u001b[0m\u001b[0m_wait_for_mainpyfile\u001b[0m \u001b[0;34m=\u001b[0m \u001b[0;36m0\u001b[0m\u001b[0;34m\u001b[0m\u001b[0m\n\u001b[1;32m    157\u001b[0m         \u001b[0;32mif\u001b[0m \u001b[0mself\u001b[0m\u001b[0;34m.\u001b[0m\u001b[0mbp_commands\u001b[0m\u001b[0;34m(\u001b[0m\u001b[0mframe\u001b[0m\u001b[0;34m)\u001b[0m\u001b[0;34m:\u001b[0m\u001b[0;34m\u001b[0m\u001b[0m\n\u001b[0;32m--> 158\u001b[0;31m             \u001b[0mself\u001b[0m\u001b[0;34m.\u001b[0m\u001b[0minteraction\u001b[0m\u001b[0;34m(\u001b[0m\u001b[0mframe\u001b[0m\u001b[0;34m,\u001b[0m \u001b[0mNone\u001b[0m\u001b[0;34m)\u001b[0m\u001b[0;34m\u001b[0m\u001b[0m\n\u001b[0m\u001b[1;32m    159\u001b[0m \u001b[0;34m\u001b[0m\u001b[0m\n\u001b[1;32m    160\u001b[0m     \u001b[0;32mdef\u001b[0m \u001b[0mbp_commands\u001b[0m\u001b[0;34m(\u001b[0m\u001b[0mself\u001b[0m\u001b[0;34m,\u001b[0m\u001b[0mframe\u001b[0m\u001b[0;34m)\u001b[0m\u001b[0;34m:\u001b[0m\u001b[0;34m\u001b[0m\u001b[0m\n",
      "\u001b[0;32m/Users/crl_imac/anaconda/lib/python2.7/pdb.pyc\u001b[0m in \u001b[0;36minteraction\u001b[0;34m(self, frame, traceback)\u001b[0m\n\u001b[1;32m    208\u001b[0m         \u001b[0mself\u001b[0m\u001b[0;34m.\u001b[0m\u001b[0msetup\u001b[0m\u001b[0;34m(\u001b[0m\u001b[0mframe\u001b[0m\u001b[0;34m,\u001b[0m \u001b[0mtraceback\u001b[0m\u001b[0;34m)\u001b[0m\u001b[0;34m\u001b[0m\u001b[0m\n\u001b[1;32m    209\u001b[0m         \u001b[0mself\u001b[0m\u001b[0;34m.\u001b[0m\u001b[0mprint_stack_entry\u001b[0m\u001b[0;34m(\u001b[0m\u001b[0mself\u001b[0m\u001b[0;34m.\u001b[0m\u001b[0mstack\u001b[0m\u001b[0;34m[\u001b[0m\u001b[0mself\u001b[0m\u001b[0;34m.\u001b[0m\u001b[0mcurindex\u001b[0m\u001b[0;34m]\u001b[0m\u001b[0;34m)\u001b[0m\u001b[0;34m\u001b[0m\u001b[0m\n\u001b[0;32m--> 210\u001b[0;31m         \u001b[0mself\u001b[0m\u001b[0;34m.\u001b[0m\u001b[0mcmdloop\u001b[0m\u001b[0;34m(\u001b[0m\u001b[0;34m)\u001b[0m\u001b[0;34m\u001b[0m\u001b[0m\n\u001b[0m\u001b[1;32m    211\u001b[0m         \u001b[0mself\u001b[0m\u001b[0;34m.\u001b[0m\u001b[0mforget\u001b[0m\u001b[0;34m(\u001b[0m\u001b[0;34m)\u001b[0m\u001b[0;34m\u001b[0m\u001b[0m\n\u001b[1;32m    212\u001b[0m \u001b[0;34m\u001b[0m\u001b[0m\n",
      "\u001b[0;32m/Users/crl_imac/anaconda/lib/python2.7/cmd.pyc\u001b[0m in \u001b[0;36mcmdloop\u001b[0;34m(self, intro)\u001b[0m\n\u001b[1;32m    128\u001b[0m                     \u001b[0;32mif\u001b[0m \u001b[0mself\u001b[0m\u001b[0;34m.\u001b[0m\u001b[0muse_rawinput\u001b[0m\u001b[0;34m:\u001b[0m\u001b[0;34m\u001b[0m\u001b[0m\n\u001b[1;32m    129\u001b[0m                         \u001b[0;32mtry\u001b[0m\u001b[0;34m:\u001b[0m\u001b[0;34m\u001b[0m\u001b[0m\n\u001b[0;32m--> 130\u001b[0;31m                             \u001b[0mline\u001b[0m \u001b[0;34m=\u001b[0m \u001b[0mraw_input\u001b[0m\u001b[0;34m(\u001b[0m\u001b[0mself\u001b[0m\u001b[0;34m.\u001b[0m\u001b[0mprompt\u001b[0m\u001b[0;34m)\u001b[0m\u001b[0;34m\u001b[0m\u001b[0m\n\u001b[0m\u001b[1;32m    131\u001b[0m                         \u001b[0;32mexcept\u001b[0m \u001b[0mEOFError\u001b[0m\u001b[0;34m:\u001b[0m\u001b[0;34m\u001b[0m\u001b[0m\n\u001b[1;32m    132\u001b[0m                             \u001b[0mline\u001b[0m \u001b[0;34m=\u001b[0m \u001b[0;34m'EOF'\u001b[0m\u001b[0;34m\u001b[0m\u001b[0m\n",
      "\u001b[0;32m/Users/crl_imac/anaconda/lib/python2.7/site-packages/ipykernel/kernelbase.pyc\u001b[0m in \u001b[0;36mraw_input\u001b[0;34m(self, prompt)\u001b[0m\n\u001b[1;32m    687\u001b[0m             \u001b[0mself\u001b[0m\u001b[0;34m.\u001b[0m\u001b[0m_parent_ident\u001b[0m\u001b[0;34m,\u001b[0m\u001b[0;34m\u001b[0m\u001b[0m\n\u001b[1;32m    688\u001b[0m             \u001b[0mself\u001b[0m\u001b[0;34m.\u001b[0m\u001b[0m_parent_header\u001b[0m\u001b[0;34m,\u001b[0m\u001b[0;34m\u001b[0m\u001b[0m\n\u001b[0;32m--> 689\u001b[0;31m             \u001b[0mpassword\u001b[0m\u001b[0;34m=\u001b[0m\u001b[0mFalse\u001b[0m\u001b[0;34m,\u001b[0m\u001b[0;34m\u001b[0m\u001b[0m\n\u001b[0m\u001b[1;32m    690\u001b[0m         )\n\u001b[1;32m    691\u001b[0m \u001b[0;34m\u001b[0m\u001b[0m\n",
      "\u001b[0;32m/Users/crl_imac/anaconda/lib/python2.7/site-packages/ipykernel/kernelbase.pyc\u001b[0m in \u001b[0;36m_input_request\u001b[0;34m(self, prompt, ident, parent, password)\u001b[0m\n\u001b[1;32m    717\u001b[0m             \u001b[0;32mexcept\u001b[0m \u001b[0mKeyboardInterrupt\u001b[0m\u001b[0;34m:\u001b[0m\u001b[0;34m\u001b[0m\u001b[0m\n\u001b[1;32m    718\u001b[0m                 \u001b[0;31m# re-raise KeyboardInterrupt, to truncate traceback\u001b[0m\u001b[0;34m\u001b[0m\u001b[0;34m\u001b[0m\u001b[0m\n\u001b[0;32m--> 719\u001b[0;31m                 \u001b[0;32mraise\u001b[0m \u001b[0mKeyboardInterrupt\u001b[0m\u001b[0;34m\u001b[0m\u001b[0m\n\u001b[0m\u001b[1;32m    720\u001b[0m             \u001b[0;32melse\u001b[0m\u001b[0;34m:\u001b[0m\u001b[0;34m\u001b[0m\u001b[0m\n\u001b[1;32m    721\u001b[0m                 \u001b[0;32mbreak\u001b[0m\u001b[0;34m\u001b[0m\u001b[0m\n",
      "\u001b[0;31mKeyboardInterrupt\u001b[0m: "
     ]
    }
   ],
   "source": [
    "import pdb\n",
    "\n",
    "pdb.run(generate_CNNinput(data_path, blob_names))"
   ]
  }
 ],
 "metadata": {
  "kernelspec": {
   "display_name": "Python [Root]",
   "language": "python",
   "name": "Python [Root]"
  },
  "language_info": {
   "codemirror_mode": {
    "name": "ipython",
    "version": 2
   },
   "file_extension": ".py",
   "mimetype": "text/x-python",
   "name": "python",
   "nbconvert_exporter": "python",
   "pygments_lexer": "ipython2",
   "version": "2.7.12"
  }
 },
 "nbformat": 4,
 "nbformat_minor": 0
}
